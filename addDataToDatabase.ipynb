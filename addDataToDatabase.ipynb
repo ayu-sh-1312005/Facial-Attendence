{
 "cells": [
  {
   "cell_type": "code",
   "execution_count": 11,
   "id": "7c8b3664",
   "metadata": {},
   "outputs": [],
   "source": [
    "\n",
    "import firebase_admin\n",
    "from firebase_admin import credentials\n",
    "from firebase_admin import db\n",
    "# firebase_admin.delete_app(firebase_admin.get_app())\n",
    "if not firebase_admin._apps:\n",
    "    cred = credentials.Certificate(r\"C:\\Users\\ayush\\OneDrive\\Pictures\\realtimeattendence-firebase-adminsdk-cb6st-ddf1f7eda0.json\")\n",
    "    firebase_admin = firebase_admin.initialize_app(cred, {'databaseURL': 'https://realtimeattendence-default-rtdb.firebaseio.com/'})\n",
    "ref=db.reference(\"Students\")\n",
    "#     cred = credentials.Certificate(address of json file)\n",
    "#     firebase_admin = firebase_admin.initialize_app(cred, {'databaseURL': realtime database url,\n",
    "#                             'storageBucket':storage url})\n",
    "\n",
    "data={\n",
    "    \"111\":\n",
    "        {\n",
    "            \"name\":\"Cristiano Ronaldo\",\n",
    "            \"major\":\"BTech-ME\",\n",
    "            \"year\":\"1st\",\n",
    "            \"last_attendence_time\":\"2023-03-11 00:54:34\",\n",
    "            \"total_attendence\":10,\n",
    "            \"section\":'A',\n",
    "            \"sex\":\"Male\",\n",
    "            \"starting_year\":\"2017-21\"\n",
    "        },\n",
    "    \"112\":\n",
    "        {\n",
    "            \"name\":\"Elon Musk\",\n",
    "            \"major\":\"BSC Physics\",\n",
    "            \"year\":\"3rd\",\n",
    "            \"last_attendence_time\":\"2023-01-21 10:44:04\",\n",
    "            \"total_attendence\":9,\n",
    "            \"section\":'B',\n",
    "            \"sex\":\"Male\",\n",
    "            \"starting_year\":\"2019-22\"\n",
    "        },\n",
    "    \"113\":\n",
    "        {\n",
    "            \"name\":\"Virat Kohli\",\n",
    "            \"major\":\"BTech-CSE\",\n",
    "            \"year\":\"2nd\",\n",
    "            \"last_attendence_time\":\"2023-02-11 12:14:14\",\n",
    "            \"total_attendence\":5,\n",
    "            \"section\":'C',\n",
    "            \"sex\":\"Male\",\n",
    "            \"starting_year\":\"2022-26\"\n",
    "        }\n",
    "}\n",
    "\n",
    "for key,value in data.items():\n",
    "    ref.child(key).set(value)\n",
    "# for i in data:\n",
    "#     print(i,data[i])\n"
   ]
  },
  {
   "cell_type": "code",
   "execution_count": 12,
   "id": "8354f17b",
   "metadata": {},
   "outputs": [
    {
     "data": {
      "text/plain": [
       "dict_items([('111', {'name': 'Cristiano Ronaldo', 'major': 'BTech-ME', 'year': '1st', 'last_attendence_time': '2023-03-11 00:54:34', 'total_attendence': 10, 'section': 'A', 'sex': 'Male', 'starting_year': '2017-21'}), ('112', {'name': 'Elon Musk', 'major': 'BSC Physics', 'year': '3rd', 'last_attendence_time': '2023-01-21 10:44:04', 'total_attendence': 9, 'section': 'B', 'sex': 'Male', 'starting_year': '2019-22'}), ('113', {'name': 'Virat Kohli', 'major': 'BTech-CSE', 'year': '2nd', 'last_attendence_time': '2023-02-11 12:14:14', 'total_attendence': 5, 'section': 'C', 'sex': 'Male', 'starting_year': '2022-26'})])"
      ]
     },
     "execution_count": 12,
     "metadata": {},
     "output_type": "execute_result"
    }
   ],
   "source": [
    "data.items()"
   ]
  },
  {
   "cell_type": "code",
   "execution_count": 14,
   "id": "b0fdad0d",
   "metadata": {},
   "outputs": [
    {
     "name": "stdout",
     "output_type": "stream",
     "text": [
      "111 {'name': 'Cristiano Ronaldo', 'major': 'BTech-ME', 'year': '1st', 'last_attendence_time': '2023-03-11 00:54:34', 'total_attendence': 10, 'section': 'A', 'sex': 'Male', 'starting_year': '2017-21'}\n",
      "112 {'name': 'Elon Musk', 'major': 'BSC Physics', 'year': '3rd', 'last_attendence_time': '2023-01-21 10:44:04', 'total_attendence': 9, 'section': 'B', 'sex': 'Male', 'starting_year': '2019-22'}\n",
      "113 {'name': 'Virat Kohli', 'major': 'BTech-CSE', 'year': '2nd', 'last_attendence_time': '2023-02-11 12:14:14', 'total_attendence': 5, 'section': 'C', 'sex': 'Male', 'starting_year': '2022-26'}\n",
      ">>>>>>>>>>>>>>>>>>\n",
      "111 {'name': 'Cristiano Ronaldo', 'major': 'BTech-ME', 'year': '1st', 'last_attendence_time': '2023-03-11 00:54:34', 'total_attendence': 10, 'section': 'A', 'sex': 'Male', 'starting_year': '2017-21'}\n",
      "112 {'name': 'Elon Musk', 'major': 'BSC Physics', 'year': '3rd', 'last_attendence_time': '2023-01-21 10:44:04', 'total_attendence': 9, 'section': 'B', 'sex': 'Male', 'starting_year': '2019-22'}\n",
      "113 {'name': 'Virat Kohli', 'major': 'BTech-CSE', 'year': '2nd', 'last_attendence_time': '2023-02-11 12:14:14', 'total_attendence': 5, 'section': 'C', 'sex': 'Male', 'starting_year': '2022-26'}\n"
     ]
    }
   ],
   "source": [
    "for i in data:\n",
    "    print(i,data[i])\n",
    "print(\">>>>>>>>>>>>>>>>>>\")\n",
    "for key,val in data.items():\n",
    "    print(key,val)"
   ]
  },
  {
   "cell_type": "code",
   "execution_count": null,
   "id": "09276e6b",
   "metadata": {},
   "outputs": [],
   "source": []
  },
  {
   "cell_type": "code",
   "execution_count": null,
   "id": "a72abd68",
   "metadata": {},
   "outputs": [],
   "source": []
  }
 ],
 "metadata": {
  "kernelspec": {
   "display_name": "Python 3 (ipykernel)",
   "language": "python",
   "name": "python3"
  },
  "language_info": {
   "codemirror_mode": {
    "name": "ipython",
    "version": 3
   },
   "file_extension": ".py",
   "mimetype": "text/x-python",
   "name": "python",
   "nbconvert_exporter": "python",
   "pygments_lexer": "ipython3",
   "version": "3.10.8"
  }
 },
 "nbformat": 4,
 "nbformat_minor": 5
}
