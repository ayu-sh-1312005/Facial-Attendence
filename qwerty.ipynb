{
 "cells": [
  {
   "cell_type": "code",
   "execution_count": 11,
   "id": "48f0cc9a",
   "metadata": {},
   "outputs": [],
   "source": [
    "import cv2\n",
    "import os\n",
    "import pickle\n",
    "import face_recognition\n",
    "import pandas as pd"
   ]
  },
  {
   "cell_type": "code",
   "execution_count": 12,
   "id": "74911572",
   "metadata": {},
   "outputs": [],
   "source": [
    "import firebase_admin\n",
    "from firebase_admin import credentials\n",
    "from firebase_admin import db\n",
    "from firebase_admin import storage \n",
    "# firebase_admin.delete_app(firebase_admin.get_app())\n",
    "if not firebase_admin._apps:\n",
    "    cred = credentials.Certificate(r\"C:\\Users\\ayush\\OneDrive\\Pictures\\realtimeattendence-firebase-adminsdk-cb6st-ddf1f7eda0.json\")\n",
    "    firebase_admin = firebase_admin.initialize_app(cred, {'databaseURL': 'https://realtimeattendence-default-rtdb.firebaseio.com/',\n",
    "                            'storageBucket':'realtimeattendence.appspot.com'})"
   ]
  },
  {
   "cell_type": "code",
   "execution_count": 13,
   "id": "93aa08de",
   "metadata": {},
   "outputs": [
    {
     "name": "stdout",
     "output_type": "stream",
     "text": [
      "['111', '112', '113']\n"
     ]
    }
   ],
   "source": [
    "path=r\"C:\\Users\\ayush\\OneDrive\\Desktop\\images-attendence\"\n",
    "# to get all the items present inside the directory\n",
    "modePathList=os.listdir(path)\n",
    "studentId=[]\n",
    "imageList=[]\n",
    "# create a bucket object\n",
    "bucket=storage.bucket()\n",
    "for i in modePathList:\n",
    "    # to read the image using cv2 and add save it in imageList\n",
    "    cor=cv2.imread(path+\"\\\\\"+i)\n",
    "    studentId.append(i.split(\".\")[0])\n",
    "    imageList.append(cor)\n",
    "    \n",
    "    # upload the image on firebase\n",
    "    fileName=path+\"\\\\\"+i\n",
    "#     blob=bucket.blob(file_name)\n",
    "    blob=bucket.blob(i.split('.')[0])\n",
    "#      blob.upload_from_filename(file_path)\n",
    "    blob.upload_from_filename(fileName)\n",
    "print(studentId)"
   ]
  },
  {
   "cell_type": "code",
   "execution_count": 14,
   "id": "2272b5f4",
   "metadata": {},
   "outputs": [],
   "source": [
    "def findEncoding(imageList):\n",
    "    encodeList=[]\n",
    "    for img in imageList:\n",
    "        img=cv2.cvtColor(img,cv2.COLOR_BGR2RGB)\n",
    "        temp=face_recognition.face_encodings(img)[0]\n",
    "        encodeList.append(temp)\n",
    "    return encodeList"
   ]
  },
  {
   "cell_type": "code",
   "execution_count": 15,
   "id": "2f3fc171",
   "metadata": {},
   "outputs": [],
   "source": [
    "encodeListKnown=findEncoding(imageList)\n",
    "encodeListKnownWithId=[studentId,encodeListKnown]\n",
    "# storing the known encode data of face in a file\n",
    "file=open(\"EncodeFilet.p\",\"wb\")\n",
    "pickle.dump(encodeListKnownWithId,file)\n",
    "file.close()"
   ]
  },
  {
   "cell_type": "code",
   "execution_count": 16,
   "id": "117a7912",
   "metadata": {},
   "outputs": [
    {
     "data": {
      "text/plain": [
       "False"
      ]
     },
     "execution_count": 16,
     "metadata": {},
     "output_type": "execute_result"
    }
   ],
   "source": [
    "not firebase_admin._apps"
   ]
  },
  {
   "cell_type": "markdown",
   "id": "f7dd6485",
   "metadata": {},
   "source": [
    "# instruction\n",
    "* upload all the image of size 125*125"
   ]
  },
  {
   "cell_type": "code",
   "execution_count": null,
   "id": "725a7257",
   "metadata": {},
   "outputs": [],
   "source": []
  },
  {
   "cell_type": "code",
   "execution_count": null,
   "id": "06d87b24",
   "metadata": {},
   "outputs": [],
   "source": []
  },
  {
   "cell_type": "code",
   "execution_count": null,
   "id": "cf584e6e",
   "metadata": {},
   "outputs": [],
   "source": []
  }
 ],
 "metadata": {
  "kernelspec": {
   "display_name": "Python 3 (ipykernel)",
   "language": "python",
   "name": "python3"
  },
  "language_info": {
   "codemirror_mode": {
    "name": "ipython",
    "version": 3
   },
   "file_extension": ".py",
   "mimetype": "text/x-python",
   "name": "python",
   "nbconvert_exporter": "python",
   "pygments_lexer": "ipython3",
   "version": "3.10.8"
  }
 },
 "nbformat": 4,
 "nbformat_minor": 5
}
